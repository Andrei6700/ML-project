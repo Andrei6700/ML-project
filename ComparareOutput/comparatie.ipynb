{
 "cells": [
  {
   "cell_type": "code",
   "execution_count": 1,
   "metadata": {},
   "outputs": [
    {
     "name": "stdout",
     "output_type": "stream",
     "text": [
      "Imaginea combinată a fost salvată la: d:\\FACULTATE-Folder\\MASTER - ANUL 1\\Machine Learning\\Docs\\Proiect\\ComparareOutput\\combinata.png\n"
     ]
    }
   ],
   "source": [
    "# SURSA: CHATGPT\n",
    "import os\n",
    "from PIL import Image\n",
    "\n",
    "# Deschide imagini\n",
    "image1 = Image.open(\"Liearly_AllOutputs.png\")\n",
    "image2 = Image.open(\"NonLiearly_AllOutputs.png\")\n",
    "\n",
    "# Obținem dimensiunile imaginilor\n",
    "width1, height1 = image1.size\n",
    "width2, height2 = image2.size\n",
    "\n",
    "# Alegem lățimea maximă și calculăm înălțimea totală\n",
    "max_width = max(width1, width2)\n",
    "total_height = height1 + height2\n",
    "\n",
    "# Creăm o imagine goală cu dimensiunile calculate\n",
    "new_image = Image.new(\"RGB\", (max_width, total_height))\n",
    "\n",
    "# Plasăm imaginea 1 în partea de sus\n",
    "new_image.paste(image1, (0, 0))\n",
    "\n",
    "# Plasăm imaginea 2 în partea de jos\n",
    "new_image.paste(image2, (0, height1))\n",
    "\n",
    "# Obținem calea directorului curent\n",
    "current_directory = os.getcwd()\n",
    "\n",
    "# Salvăm imaginea combinată în același director\n",
    "new_image_path = os.path.join(current_directory, \"combinata.png\")\n",
    "new_image.save(new_image_path)\n",
    "\n",
    "# Opțional: Afișăm imaginea combinată\n",
    "new_image.show()\n",
    "\n",
    "print(f\"Imaginea combinată a fost salvată la: {new_image_path}\")\n"
   ]
  },
  {
   "cell_type": "code",
   "execution_count": null,
   "metadata": {},
   "outputs": [],
   "source": [
    "# #! DOCS: CHATGPT\n",
    "\n",
    "# import matplotlib.pyplot as plt\n",
    "# from PIL import Image\n",
    "\n",
    "# # Numele imaginilor și titlurile lor\n",
    "# image_filenames = [\n",
    "#     \"Non_Linearly_separable.png\",\n",
    "#     \"bayes_Non_Linearly_separable.png\",\n",
    "#     \"RandomForest_Non_Linearly_separable.png\",\n",
    "#     \"SVM_C_Non_Linearly_separable.png\",\n",
    "#     \"SVM_GammaHigh_Non_Linearly_separable.png\",\n",
    "#     \"SVM_GammaLow_Non_Linearly_separable.png\",\n",
    "#     \"SVM_Non_Linearly_separable.png\",\n",
    "#     \"SVM_C_optimize_Non_Linearly_separabled.png\"\n",
    "# ]\n",
    "\n",
    "# titles = [\n",
    "#     \"Original (NonLinearly Separable)\",\n",
    "#     \"Bayes\",\n",
    "#     \"Random Forest\",\n",
    "#     \"SVM C\",\n",
    "#     \"SVM Gamma High\",\n",
    "#     \"SVM Gamma Low\",\n",
    "#     \"SVM\",\n",
    "#     \"SVM C Optimized\"\n",
    "# ]\n",
    "\n",
    "# # Setează dimensiunea figurii și numărul de subploturi\n",
    "# plt.figure(figsize=(20, 10))  # Ajustează dimensiunea figurii în funcție de numărul de imagini\n",
    "\n",
    "# # Încarcă și afișează fiecare imagine într-un subplot\n",
    "# for i, (filename, title) in enumerate(zip(image_filenames, titles)):\n",
    "#     image = Image.open(filename)\n",
    "#     plt.subplot(1, len(image_filenames), i + 1)  # Creează un subplot pentru fiecare imagine\n",
    "#     plt.imshow(image)\n",
    "#     plt.title(title)\n",
    "#     plt.axis(\"off\")  # Ascunde axele pentru a pune mai bine în valoare imaginile\n",
    "\n",
    "# # Afișează toate imaginile în linie\n",
    "# plt.tight_layout()\n",
    "# plt.show()\n"
   ]
  }
 ],
 "metadata": {
  "kernelspec": {
   "display_name": "Python 3",
   "language": "python",
   "name": "python3"
  },
  "language_info": {
   "codemirror_mode": {
    "name": "ipython",
    "version": 3
   },
   "file_extension": ".py",
   "mimetype": "text/x-python",
   "name": "python",
   "nbconvert_exporter": "python",
   "pygments_lexer": "ipython3",
   "version": "3.13.0"
  }
 },
 "nbformat": 4,
 "nbformat_minor": 2
}
