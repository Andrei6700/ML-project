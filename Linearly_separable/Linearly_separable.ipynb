{
 "cells": [
  {
   "cell_type": "markdown",
   "metadata": {},
   "source": [
    "<strong>Formularea problemei:</strong>\n",
    "\n",
    "<p>*Scopul proiectului*: Să considerăm o imagine simplă în care culoarea unor puncte a fost ștearsă (acum aceste puncte sunt albe). Ne propunem să restaurăm imaginea inițială folosind punctele care încă sunt colorate în ea.</p> <p>**Scopul tehnic al proiectului**: Compararea performanței diferiților clasificatori în rezolvarea problemei date atât pentru imagini liniar separabile, cât și pentru imagini non-liniar separabile. Realizarea selecției modelului, implicând alegerea parametrilor modelului, folosind metode diferite și discutarea amănunțită a rezultatelor. Realizarea unui studiu de sensibilitate pentru a evidenția impactul raportului de antrenare/testare și al setului de date de intrare.</p> <p>**Descriere detaliată a cerințelor**: <ol> <li>Imaginați-vă o imagine simplă în două sau mai multe culori la alegere. Folosiți apoi aplicația Paint pentru a crea o imagine care conține doar o parte dintre punctele din imaginea originală. Utilizați instrumentul de creion al aplicației Paint, nu pensula sau alte instrumente, pentru a realiza imaginea. Pixelii colorați din imaginea creată vor reprezenta setul de date. Pe baza acestora, trebuie să preziceți culorile tuturor pixelilor din imagine.</li> <li>Trebuie să folosiți cel puțin trei clasificatori: unul din categoriile a), b) și c) de mai jos. Opțional, puteți folosi mai mulți clasificatori. <p>Clasificatori care trebuie folosiți: a) **Clasificatori Bayes** și **Clasificatori cu arbori de decizie** b) **ANN** (Rețele Neuronale Artificiale) și **SVM** (Mașini de Suport Vectorial), c) **Metode ensemble** d) **Alți clasificatori** (opțional). </p> </li> <li>Trebuie să puteți explica toate detaliile legate de clasificatorii aleși.</li> <li>Trebuie să puteți explica toate detaliile legate de implementarea sarcinilor.</li> <li>Trebuie să oferiți interpretarea și să faceți comparații ale rezultatelor.</li> </ol> </p>\n",
    "<strong>Exemplu:</strong> \n",
    "\n",
    "<center><strong>Figura 1</strong></center> <p>Puteți considera că punctele din Figura 1 provin dintr-o imagine inițială (cunoscută) ca cea dată în Figura 2.</p> <p>Pentru mai multe exemple de imagini și o mai bună înțelegere a formulării problemei, consultați: <a href=\"http://playground.tensorflow.org\">http://playground.tensorflow.org</a></p> și Figura 3 (la finalul acestui notebook). <p>Sarcinile ce trebuie realizate sunt prezentate mai jos. Ele pot fi urmate succesiv așa cum sunt arătate sau puteți concepe propriul algoritm care să încorporeze toate sau o parte din pași (de exemplu, puteți crea un algoritm care să genereze o listă de imagini de folosit, o listă de clasificatori de folosit, astfel încât o sarcină să fie realizată direct și mai ușor utilizând toți clasificatorii și toate imaginile. Sau puteți crea un algoritm bazat pe OOP pentru a rezolva problema generic pentru orice clasificator și orice imagine). Este important ca toate sarcinile enumerate mai jos să fie finalizate. Sunteți încurajați să realizați și sarcini suplimentare la alegerea voastră pentru a îmbunătăți comparațiile rezultatelor.</p>\n",
    "<strong>Sarcinile de realizat:</strong>\n",
    "\n",
    "<strong>1.</strong> Generați 2 imagini folosind Paint, similare cu Figura 1, care să conțină seturi de puncte în două sau mai multe culori – minimum 200 de puncte (așa cum este explicat în Descrierea detaliată a cerințelor), astfel încât în prima imagine setul de puncte să fie liniar separabil, iar în a doua imagine setul de puncte să fie non-liniar separabil. Salvați imaginile sub numele \"data1.png\" și \"data2.png\".\n",
    "\n",
    "<strong>2.</strong> Creați două seturi de date pe baza celor 2 imagini din pasul 1, folosind codul dat mai jos. Analizați și comentați acest cod."
   ]
  },
  {
   "cell_type": "code",
   "execution_count": null,
   "metadata": {},
   "outputs": [
    {
     "name": "stdout",
     "output_type": "stream",
     "text": [
      "Counter({16711680: 132, 255: 108})\n"
     ]
    }
   ],
   "source": [
    "from PIL import Image\n",
    "import numpy as np\n",
    "from collections import Counter\n",
    "\n",
    "\n",
    "def rgb_to_int(r, g, b):\n",
    "    return (r << 16) + (g << 8) + b\n",
    "\n",
    "def read_data(filename):\n",
    "    x = []\n",
    "    y = []\n",
    "    back_color = rgb_to_int(255, 255, 255)  # Culoarea albă\n",
    "    \n",
    "    image = Image.open(filename)\n",
    "    width, height = image.size\n",
    "    pixels = image.load()\n",
    " \n",
    "    for i in range(width):\n",
    "        for j in range(height):\n",
    "            pixel = pixels[i, j]  # Obține pixelul\n",
    "            \n",
    "            if len(pixel) == 3:  # Format RGB\n",
    "                r, g, b = pixel\n",
    "            elif len(pixel) == 4:  # Format RGBA\n",
    "                r, g, b, _ = pixel  # Ignoră canalul alfa\n",
    "            else:\n",
    "                continue  # Sari peste pixeli care nu sunt RGB sau RGBA\n",
    "            \n",
    "            color = rgb_to_int(r, g, b)\n",
    "            \n",
    "            if color != back_color:  # Verifică dacă nu este alb\n",
    "                x.append([i, j])  # Adaugă coordonatele pixelului\n",
    "                y.append(color)  # Adaugă culoarea pixelului\n",
    "    return x, y\n",
    "\n",
    "x1, y1 = read_data('Linearly_separable.png')\n",
    "\n",
    "# counter = Counter(y1)\n",
    "# print(counter)\n",
    "\n",
    "# print(\"Data from Non-linearly Separable Image:\")\n",
    "# print(\"Coordinates:\", x2)\n",
    "# print(\"Colors:\", y2)\n",
    "\n"
   ]
  },
  {
   "cell_type": "markdown",
   "metadata": {},
   "source": [
    "<strong>3.</strong> Împarte primul set de date într-un set de antrenare și un set de testare (folosind 70% pentru antrenare și 30% pentru validare).\n"
   ]
  },
  {
   "cell_type": "code",
   "execution_count": 8,
   "metadata": {},
   "outputs": [],
   "source": [
    "# impartinrea setului de date a imaginii liniar separabile \n",
    "from sklearn.model_selection import train_test_split\n",
    "X1_train, X1_test, y1_train, y1_test = train_test_split(x1, y1 , test_size= 0.3, random_state=42)\n",
    "\n",
    "# print(\"Set de antrenare (X):\", X1_train)\n",
    "# print(\"Set de testare (X):\", X1_test)\n",
    "# print(\"Set de antrenare (y):\", y1_train)\n",
    "# print(\"Set de testare (y):\", y1_test)\n"
   ]
  },
  {
   "cell_type": "markdown",
   "metadata": {},
   "source": [
    "<strong>4.</strong> Alege un clasificator din categoria a) și antrenează-l pe setul de antrenare generat la pasul 3.\n"
   ]
  },
  {
   "cell_type": "code",
   "execution_count": null,
   "metadata": {},
   "outputs": [],
   "source": [
    "    # your code here\n",
    "    # Clasificatorul Naive Bayes\n",
    "    #  docs: https://jakevdp.github.io/PythonDataScienceHandbook/05.05-naive-bayes.html\n",
    "    #        https://www.datacamp.com/tutorial/naive-bayes-scikit-learn\n",
    "\n",
    "from sklearn.naive_bayes import GaussianNB\n",
    "# Build a Gaussian Classifier\n",
    "model = GaussianNB()\n",
    "\n",
    "# Model training pe setului de date a imaginii libinar separabile \n",
    "model.fit(X1_train, y1_train)\n"
   ]
  },
  {
   "cell_type": "markdown",
   "metadata": {},
   "source": [
    "<strong>5.</strong> Folosește clasificatorul antrenat la pasul 4 pentru a face predicții pe setul de testare generat la pasul 3.\n",
    "\n"
   ]
  },
  {
   "cell_type": "code",
   "execution_count": null,
   "metadata": {},
   "outputs": [
    {
     "name": "stdout",
     "output_type": "stream",
     "text": [
      "Actual Value: 255\n",
      "Predicted Value: 255\n"
     ]
    }
   ],
   "source": [
    "model.fit(X1_train, y1_train)\n",
    "# Predict Output pe setului de date a imaginii non-linearly separable\n",
    "predicted = model.predict([X1_test[6]])\n",
    "\n",
    "print(\"Actual Value:\", y1_test[6])\n",
    "print(\"Predicted Value:\", predicted[0])"
   ]
  },
  {
   "cell_type": "markdown",
   "metadata": {},
   "source": [
    "<strong>6.</strong> Calculează acuratețea clasificatorului pe setul de testare generat la pasul 3 și apoi pe setul de antrenare. Discută rezultatele."
   ]
  },
  {
   "cell_type": "code",
   "execution_count": 11,
   "metadata": {},
   "outputs": [
    {
     "name": "stdout",
     "output_type": "stream",
     "text": [
      "Acuratetea pe setul de antrenare: 1.0\n",
      "Acuratetea pe setul de test: 1.0\n"
     ]
    }
   ],
   "source": [
    "# acuratetea pe setul de antrenare a imaginii liniar separabile\n",
    "from sklearn.metrics import accuracy_score\n",
    "\n",
    "model.fit(X1_train, y1_train)\n",
    "predicted = model.predict(X1_train)\n",
    "accuracy = accuracy_score(y1_train, predicted)\n",
    "\n",
    "print(f\"Acuratetea pe setul de antrenare: {accuracy}\")\n",
    "\n",
    "predicted = model.predict(X1_test)\n",
    "accuracy = accuracy_score(y1_test, predicted)\n",
    "\n",
    "print(f\"Acuratetea pe setul de test: {accuracy}\")"
   ]
  },
  {
   "cell_type": "markdown",
   "metadata": {},
   "source": [
    "<strong>7.</strong> Calculează precizia și rechemarea (recall) clasificatorului pe setul de testare generat la pasul 3 și salvează rezultatele într-un fișier sau afișează-le. Definește (teoretic) precizia și rechemarea. Discută rezultatele.\n"
   ]
  },
  {
   "cell_type": "code",
   "execution_count": 12,
   "metadata": {},
   "outputs": [
    {
     "name": "stdout",
     "output_type": "stream",
     "text": [
      "Precision: 1.0\n",
      "Recall: 1.0\n"
     ]
    }
   ],
   "source": [
    "from sklearn.metrics import precision_score, recall_score\n",
    "# recall si precizia pe setul de testare a imaginii liniar separabile\n",
    "\n",
    "model.fit(X1_train, y1_train)\n",
    "y_pred = model.predict(X1_test)\n",
    "\n",
    "precision = precision_score(y1_test, y_pred, average='micro') # daca nu pun micro imi da eroare\n",
    "recall = recall_score(y1_test, y_pred, average='micro')\n",
    "\n",
    "print(\"Precision:\", precision)\n",
    "print(\"Recall:\", recall)\n"
   ]
  },
  {
   "cell_type": "markdown",
   "metadata": {},
   "source": [
    "<strong>8.</strong> Prezice culoarea pentru toți pixelii primei imagini și salvează culorile prezise într-o nouă imagine folosind codul de mai jos (Cod parțial dat. Trebuie completat). Fii capabil să explici codul de mai jos.\n",
    "\n"
   ]
  },
  {
   "cell_type": "code",
   "execution_count": 13,
   "metadata": {},
   "outputs": [],
   "source": [
    "from PIL import Image\n",
    "\n",
    "image = Image.open('Linearly_separable.png')\n",
    "width, height = image.size\n",
    "\n",
    "def generate_pixel_coordinates():\n",
    "    points = []\n",
    "    for i in range (width):\n",
    "        for j in range(height):\n",
    "            points.append([i,j])\n",
    "            \n",
    "    return points\n",
    "        \n",
    "def getRGBfromI(RGBint):#convert int color code to rgb color code\n",
    "    blue =  RGBint & 255\n",
    "    green = (RGBint >> 8) & 255\n",
    "    red =   (RGBint >> 16) & 255\n",
    "    return red, green, blue\n",
    "\n",
    "def get_image_colors(image):\n",
    "    colors = []\n",
    "    pixels = generate_pixel_coordinates()  # Get pixel coordinates\n",
    "    y_pred = model.predict(pixels)  # Predict colors for all pixels\n",
    "    for color in y_pred:\n",
    "        colors.append(getRGBfromI(color))  # Convert back to RGB format\n",
    "    return colors\n",
    "\n",
    "def save_data(pixels, colors, output_filename=\"bayes_Linearly_separable.png\"):\n",
    "    im = Image.new(\"RGB\", (width, height))\n",
    "    pix = im.load()\n",
    "    for i in range(len(pixels)):\n",
    "        pix[pixels[i][0], pixels[i][1]] = colors[i]  # Asociază pixelilor noile culori\n",
    "    im.save(output_filename, \"PNG\")\n",
    "\n",
    "pixels = generate_pixel_coordinates()\n",
    "colors = get_image_colors(image)\n",
    "save_data(pixels, colors)\n"
   ]
  },
  {
   "cell_type": "markdown",
   "metadata": {},
   "source": [
    "<strong>9.</strong> Folosește validarea încrucișată k-fold, cu valori diferite de k, pentru a evalua modelul (de exemplu, k=3, 5, 10). Calculează acuratețea în validarea încrucișată și media acurateței. Raportează rezultatele pentru toate rulările și compară-le cu acuratețea obținută la Pasul 6.\n",
    "\n"
   ]
  },
  {
   "cell_type": "code",
   "execution_count": 14,
   "metadata": {
    "collapsed": true
   },
   "outputs": [
    {
     "name": "stdout",
     "output_type": "stream",
     "text": [
      "Acuratețea pe setul de testare: 0.9861111111111112\n"
     ]
    }
   ],
   "source": [
    "# DOCS: https://www.w3schools.com/python/python_ml_cross_validation.asp\n",
    "\n",
    "from sklearn.tree import DecisionTreeClassifier\n",
    "from sklearn.model_selection import KFold, cross_val_score\n",
    "from sklearn.metrics import accuracy_score\n",
    "\n",
    "# Creează și antrenează modelul pe setul de antrenament\n",
    "clf = DecisionTreeClassifier(random_state=42)\n",
    "clf.fit(X1_train, y1_train)\n",
    "\n",
    "# Calculează acuratețea pe setul de testare\n",
    "y1_pred_test = clf.predict(X1_test)\n",
    "test_accuracy = accuracy_score(y1_test, y1_pred_test)\n",
    "print(f\"Acuratețea pe setul de testare: {test_accuracy}\")\n",
    "\n",
    "# valorile pt k-fold\n",
    "k_values = [3, 5, 10]\n",
    "\n",
    "# Rulează validarea încrucișată k-fold pentru fiecare valoare de k\n",
    "for k in k_values:\n",
    "    k_folds = KFold(n_splits=k, shuffle=True, random_state=42)\n",
    "    scores = cross_val_score(clf, X1_train, y1_train, cv=k_folds, scoring='accuracy')\n",
    "    \n",
    "    # print(f\"\\nPentru k={k}:\")\n",
    "    # print(\"acuratetea in validarea incrucisata:\", scores)\n",
    "    # print(f\"media acuratetei pentru k={k}: {scores.mean():.4f}\")\n"
   ]
  },
  {
   "cell_type": "markdown",
   "metadata": {},
   "source": [
    "<strong>10.</strong> Repetă pașii 3-9 pentru al doilea și al treilea clasificator.\n",
    "\n"
   ]
  },
  {
   "cell_type": "code",
   "execution_count": 15,
   "metadata": {},
   "outputs": [
    {
     "name": "stdout",
     "output_type": "stream",
     "text": [
      "Counter({16711680: 132, 255: 108})\n",
      "Acuratețea pe setul de testare: 1.0\n",
      "Acuratețea pe setul de antrenare: 1.0\n",
      "Precision: 1.0\n",
      "Recall: 1.0\n",
      "Acuratețea pe setul de testare: 1.0\n",
      "\n",
      "Pentru k=3:\n",
      "acuratetea in validarea incrucisata: [1. 1. 1.]\n",
      "media acuratetei pentru k=3: 1.0000\n",
      "\n",
      "Pentru k=5:\n",
      "acuratetea in validarea incrucisata: [1. 1. 1. 1. 1.]\n",
      "media acuratetei pentru k=5: 1.0000\n",
      "\n",
      "Pentru k=10:\n",
      "acuratetea in validarea incrucisata: [1. 1. 1. 1. 1. 1. 1. 1. 1. 1.]\n",
      "media acuratetei pentru k=10: 1.0000\n"
     ]
    }
   ],
   "source": [
    "# SVM (Support Vector Machine) Classifier:\n",
    "# docs : https://www.datacamp.com/tutorial/svm-classification-scikit-learn-python\n",
    "\n",
    "# Pasul 3:Împarte primul set de date într-un set de antrenare și un set de testare (folosind 70% pentru antrenare și 30% pentru validare).\n",
    "\n",
    "# impartinrea setului de date a imaginii liniar separabile \n",
    "from sklearn.model_selection import train_test_split\n",
    "from collections import Counter\n",
    "X1_train, X1_test, y1_train, y1_test = train_test_split(x1, y1 , test_size= 0.3, random_state=42)\n",
    "\n",
    "clase = Counter(y1)\n",
    "print(clase)\n",
    "# print(\"Set de antrenare (X):\", X1_train)\n",
    "# print(\"Set de testare (X):\", X1_test)\n",
    "# print(\"Set de antrenare (y):\", y1_train)\n",
    "# print(\"Set de testare (y):\", y1_test)\n",
    "\n",
    "# ========================================================================================================================================================================\n",
    "# Pasul 4: Alege un clasificator din categoria a) și antrenează-l pe setul de antrenare generat la pasul 3.\n",
    "from sklearn import svm\n",
    "\n",
    "model = svm.SVC(kernel='linear')\n",
    "\n",
    "model.fit(X1_train, y1_train)\n",
    "\n",
    "# ========================================================================================================================================================================\n",
    "# Pasul 5: Folosește clasificatorul antrenat la pasul 4 pentru a face predicții pe setul de testare generat la pasul 3.\n",
    "y_pred = model.predict(X1_test)\n",
    "y_pred_train =model.predict(X1_train)\n",
    "\n",
    "# ========================================================================================================================================================================\n",
    "# Pasul 6: Calculează acuratețea clasificatorului pe setul de testare generat la pasul 3 și apoi pe setul de antrenare. Discută rezultatele.\n",
    "from sklearn import metrics\n",
    "print(\"Acuratețea pe setul de testare:\", metrics.accuracy_score(y1_test, y_pred))\n",
    "print(\"Acuratețea pe setul de antrenare:\", metrics.accuracy_score(y1_train, y_pred_train))\n",
    "\n",
    "# ========================================================================================================================================================================\n",
    "# Pasul 7: Calculează precizia și rechemarea (recall) clasificatorului pe setul de testare generat la pasul 3 și salvează rezultatele într-un fișier sau afișează-le.\n",
    "#  Definește (teoretic) precizia și rechemarea. Discută rezultatele.\n",
    "print(\"Precision:\", metrics.precision_score(y1_test, y_pred, average='micro'))\n",
    "print(\"Recall:\", metrics.recall_score(y1_test, y_pred, average='micro'))\n",
    "\n",
    "# ========================================================================================================================================================================\n",
    "# Pasul 8: Prezice culoarea pentru toți pixelii primei imagini și salvează culorile prezise într-o nouă imagine folosind codul de mai jos (Cod parțial dat.\n",
    "#  Trebuie completat). Fii capabil să explici codul de mai jos.\n",
    "from PIL import Image\n",
    "\n",
    "image = Image.open('Linearly_separable.png')\n",
    "width, height = image.size\n",
    "\n",
    "def generate_pixel_coordinates():\n",
    "    points = []\n",
    "    for i in range (width):\n",
    "        for j in range(height):\n",
    "            points.append([i,j])\n",
    "            \n",
    "    return points\n",
    "        \n",
    "def getRGBfromI(RGBint):#convert int color code to rgb color code\n",
    "    blue =  RGBint & 255\n",
    "    green = (RGBint >> 8) & 255\n",
    "    red =   (RGBint >> 16) & 255\n",
    "    return red, green, blue\n",
    "\n",
    "def get_image_colors(image):\n",
    "    colors = []\n",
    "    pixels = generate_pixel_coordinates()  # Get pixel coordinates\n",
    "    y_pred = model.predict(pixels)  # Predict colors for all pixels\n",
    "    for color in y_pred:\n",
    "        colors.append(getRGBfromI(color))  # Convert back to RGB format\n",
    "    return colors\n",
    "\n",
    "def save_data(pixels, colors, output_filename=\"SVM_Linearly_separable.png\"):\n",
    "    im = Image.new(\"RGB\", (width, height))\n",
    "    pix = im.load()\n",
    "    for i in range(len(pixels)):\n",
    "        pix[pixels[i][0], pixels[i][1]] = colors[i]  # Asociază pixelilor noile culori\n",
    "    im.save(output_filename, \"PNG\")\n",
    "\n",
    "pixels = generate_pixel_coordinates()\n",
    "colors = get_image_colors(image)\n",
    "save_data(pixels, colors)\n",
    "\n",
    "# ========================================================================================================================================================================\n",
    "# Pasul 9: Folosește validarea încrucișată k-fold, cu valori diferite de k, pentru a evalua modelul (de exemplu, k=3, 5, 10). \n",
    "# Calculează acuratețea în validarea încrucișată și media acurateței.\n",
    "#  Raportează rezultatele pentru toate rulările și compară-le cu acuratețea obținută la Pasul 6.\n",
    "\n",
    "from sklearn.model_selection import KFold, cross_val_score\n",
    "from sklearn import svm\n",
    "from sklearn.metrics import accuracy_score\n",
    "\n",
    "# Creează și antrenează modelul pe setul de antrenament\n",
    "clf = svm.SVC(kernel='linear', random_state=42)\n",
    "clf.fit(X1_train, y1_train)\n",
    "\n",
    "# Calculează acuratețea pe setul de testare\n",
    "y1_pred_test = clf.predict(X1_test)\n",
    "test_accuracy = accuracy_score(y1_test, y1_pred_test)\n",
    "print(f\"Acuratețea pe setul de testare: {test_accuracy}\")\n",
    "\n",
    "# valorile pt k-fold\n",
    "k_values = [3, 5, 10]\n",
    "\n",
    "# Rulează validarea încrucișată k-fold pentru fiecare valoare de k\n",
    "for k in k_values:\n",
    "    k_folds = KFold(n_splits=k, shuffle=True, random_state=42)\n",
    "    scores = cross_val_score(clf, X1_train, y1_train, cv=k_folds, scoring='accuracy')\n",
    "    \n",
    "    print(f\"\\nPentru k={k}:\")\n",
    "    print(\"acuratetea in validarea incrucisata:\", scores)\n",
    "    print(f\"media acuratetei pentru k={k}: {scores.mean():.4f}\")\n"
   ]
  },
  {
   "cell_type": "code",
   "execution_count": 16,
   "metadata": {},
   "outputs": [
    {
     "name": "stdout",
     "output_type": "stream",
     "text": [
      "Acuratețea pe setul de testare: 1.0\n",
      "Acuratețea pe setul de antrenare: 1.0\n",
      "Precision: 1.0\n",
      "Recall: 1.0\n",
      "Acuratețea pe setul de testare: 1.0\n",
      "\n",
      "Pentru k=3:\n",
      "acuratetea in validarea incrucisata: [1. 1. 1.]\n",
      "media acuratetei pentru k=3: 1.0000\n",
      "\n",
      "Pentru k=5:\n",
      "acuratetea in validarea incrucisata: [1. 1. 1. 1. 1.]\n",
      "media acuratetei pentru k=5: 1.0000\n",
      "\n",
      "Pentru k=10:\n",
      "acuratetea in validarea incrucisata: [1. 1. 1. 1. 1. 1. 1. 1. 1. 1.]\n",
      "media acuratetei pentru k=10: 1.0000\n"
     ]
    }
   ],
   "source": [
    "# https://www.datacamp.com/tutorial/random-forests-classifier-python\n",
    "# Metode ensemble: Random Forest, AdaBoost, Gradient Boosting\n",
    "# Pasul 3:Împarte primul set de date într-un set de antrenare și un set de testare (folosind 70% pentru antrenare și 30% pentru validare).\n",
    "\n",
    "# impartinrea setului de date a imaginii liniar separabile \n",
    "from sklearn.model_selection import train_test_split\n",
    "X1_train, X1_test, y1_train, y1_test = train_test_split(x1, y1 , test_size= 0.3, random_state=42)\n",
    "\n",
    "# print(\"Set de antrenare (X):\", X1_train)\n",
    "# print(\"Set de testare (X):\", X1_test)\n",
    "# print(\"Set de antrenare (y):\", y1_train)\n",
    "# print(\"Set de testare (y):\", y1_test)\n",
    "\n",
    "# ========================================================================================================================================================================\n",
    "# Pasul 4: Alege un clasificator din categoria a) și antrenează-l pe setul de antrenare generat la pasul 3.\n",
    "#  Metode ensemble: Random Forest:\n",
    "\n",
    "from sklearn.ensemble import RandomForestClassifier\n",
    "rf = RandomForestClassifier()\n",
    "\n",
    "rf.fit(X1_train, y1_train)\n",
    "\n",
    "# ========================================================================================================================================================================\n",
    "# Pasul 5: Folosește clasificatorul antrenat la pasul 4 pentru a face predicții pe setul de testare generat la pasul 3.\n",
    "y_pred_test = rf.predict(X1_test)\n",
    "y_pred_train = rf.predict(X1_train)\n",
    "\n",
    "# ========================================================================================================================================================================\n",
    "# Pasul 6: Calculează acuratețea clasificatorului pe setul de testare generat la pasul 3 și apoi pe setul de antrenare. Discută rezultatele.\n",
    "from sklearn.metrics import accuracy_score\n",
    "\n",
    "accuracy_test = accuracy_score(y1_test, y_pred_test)\n",
    "accuracy_train = accuracy_score(y1_train, y_pred_train)\n",
    "\n",
    "print(\"Acuratețea pe setul de testare:\", accuracy_test)\n",
    "print(\"Acuratețea pe setul de antrenare:\", accuracy_train)\n",
    "\n",
    "\n",
    "# ========================================================================================================================================================================\n",
    "# Pasul 7: Calculează precizia și rechemarea (recall) clasificatorului pe setul de testare generat la pasul 3 și salvează rezultatele într-un fișier sau afișează-le.\n",
    "#  Definește (teoretic) precizia și rechemarea. Discută rezultatele.\n",
    "from sklearn.metrics import precision_score, recall_score\n",
    "\n",
    "precision = precision_score(y1_test, y_pred_test, average='micro')\n",
    "recall = recall_score(y1_test, y_pred_test, average='micro')\n",
    "\n",
    "print(\"Precision:\", precision)\n",
    "print(\"Recall:\", recall)\n",
    "# ========================================================================================================================================================================\n",
    "# Pasul 8: Prezice culoarea pentru toți pixelii primei imagini și salvează culorile prezise într-o nouă imagine folosind codul de mai jos (Cod parțial dat.\n",
    "#  Trebuie completat). Fii capabil să explici codul de mai jos.\n",
    "from PIL import Image\n",
    "\n",
    "image = Image.open('Linearly_separable.png')\n",
    "width, height = image.size\n",
    "\n",
    "def generate_pixel_coordinates():\n",
    "    points = []\n",
    "    for i in range (width):\n",
    "        for j in range(height):\n",
    "            points.append([i,j])\n",
    "            \n",
    "    return points\n",
    "        \n",
    "def getRGBfromI(RGBint):#convert int color code to rgb color code\n",
    "    blue =  RGBint & 255\n",
    "    green = (RGBint >> 8) & 255\n",
    "    red =   (RGBint >> 16) & 255\n",
    "    return red, green, blue\n",
    "\n",
    "def get_image_colors(image):\n",
    "    colors = []\n",
    "    pixels = generate_pixel_coordinates()  # Get pixel coordinates\n",
    "    y_pred_test = rf.predict(pixels)  # Predict colors for all pixels\n",
    "    for color in y_pred_test:\n",
    "        colors.append(getRGBfromI(color))  # Convert back to RGB format\n",
    "    return colors\n",
    "\n",
    "def save_data(pixels, colors, output_filename=\"RandomForest_Linearly_separable.png\"):\n",
    "    im = Image.new(\"RGB\", (width, height))\n",
    "    pix = im.load()\n",
    "    for i in range(len(pixels)):\n",
    "        pix[pixels[i][0], pixels[i][1]] = colors[i]  # Asociază pixelilor noile culori\n",
    "    im.save(output_filename, \"PNG\")\n",
    "\n",
    "pixels = generate_pixel_coordinates()\n",
    "colors = get_image_colors(image)\n",
    "save_data(pixels, colors)\n",
    "\n",
    "# ========================================================================================================================================================================\n",
    "# Pasul 9: Folosește validarea încrucișată k-fold, cu valori diferite de k, pentru a evalua modelul (de exemplu, k=3, 5, 10). \n",
    "# Calculează acuratețea în validarea încrucișată și media acurateței.\n",
    "#  Raportează rezultatele pentru toate rulările și compară-le cu acuratețea obținută la Pasul 6.\n",
    "from sklearn.ensemble import RandomForestClassifier\n",
    "from sklearn.model_selection import KFold, cross_val_score\n",
    "from sklearn.metrics import accuracy_score\n",
    "\n",
    "# Creează și antrenează modelul pe setul de antrenament\n",
    "rf = RandomForestClassifier(random_state=42)\n",
    "rf.fit(X1_train, y1_train)\n",
    "\n",
    "# Calculează acuratețea pe setul de testare\n",
    "y1_pred_test = clf.predict(X1_test)\n",
    "test_accuracy = accuracy_score(y1_test, y1_pred_test)\n",
    "print(f\"Acuratețea pe setul de testare: {test_accuracy}\")\n",
    "\n",
    "# valorile pt k-fold\n",
    "k_values = [3, 5, 10]\n",
    "\n",
    "# Rulează validarea încrucișată k-fold pentru fiecare valoare de k\n",
    "for k in k_values:\n",
    "    k_folds = KFold(n_splits=k, shuffle=True, random_state=42)\n",
    "    scores = cross_val_score(rf, X1_train, y1_train, cv=k_folds, scoring='accuracy')\n",
    "    \n",
    "    print(f\"\\nPentru k={k}:\")\n",
    "    print(\"acuratetea in validarea incrucisata:\", scores)\n",
    "    print(f\"media acuratetei pentru k={k}: {scores.mean():.4f}\")"
   ]
  },
  {
   "cell_type": "markdown",
   "metadata": {},
   "source": [
    "<strong>11.</strong> Din documentația scikit-learn, studiază clasificatorul al doilea ales, selectează doi hiperparametri reprezentativi și repetă de cel puțin 2 ori pașii 4-8 pentru diferite valori ale acestor hiperparametri. Raportează rezultatele pentru toate rulările și compară-le.\n",
    "\n"
   ]
  },
  {
   "cell_type": "code",
   "execution_count": 17,
   "metadata": {},
   "outputs": [],
   "source": [
    "# # DOCS: \n",
    "# # https://www.baeldung.com/cs/ml-svm-c-parameter\n",
    "# # To be completed soon, i Hope\n",
    "\n",
    "# # al 2 lea clasificator e SVM si are urmaotrii hipermparametrii alesi:\n",
    "# #  - hiperparametrul C\n",
    "\n",
    "# # impartinrea setului de date a imaginii liniar separabile\n",
    "# from sklearn.model_selection import train_test_split\n",
    "\n",
    "# X1_train, X1_test, y1_train, y1_test = train_test_split(x1, y1 , test_size= 0.3, random_state=42)\n",
    "\n",
    "# # ========================================================================================================================================================================\n",
    "# # Pasul 4: Alege un clasificator: SVM și antrenează-l pe setul de antrenare generat la pasul 3.\n",
    "# from sklearn import svm\n",
    "\n",
    "\n",
    "# # ========================================================================================================================================================================\n",
    "# # Pasul 5: Folosește clasificatorul antrenat la pasul 4 pentru a face predicții pe setul de testare generat la pasul 3.\n",
    "\n",
    "\n",
    "\n",
    "# # ========================================================================================================================================================================\n",
    "# # Pasul 6: Calculează acuratețea clasificatorului pe setul de testare generat la pasul 3 și apoi pe setul de antrenare. Discută rezultatele.\n",
    "\n",
    "# # ========================================================================================================================================================================\n",
    "# # Pasul 7: Calculează precizia și rechemarea (recall) clasificatorului pe setul de testare generat la pasul 3 și salvează rezultatele într-un fișier sau afișează-le.\n",
    "# # Definește (teoretic) precizia și rechemarea. Discută rezultatele.\n",
    "\n",
    "# # ========================================================================================================================================================================\n",
    "# # Pasul 8: Prezice culoarea pentru toți pixelii primei imagini și salvează culorile prezise într-o nouă imagine folosind codul de mai jos (Cod parțial dat.\n",
    "# # Trebuie completat). Fii capabil să explici codul de mai jos.\n",
    "\n",
    "# from PIL import Image\n",
    "\n",
    "# image = Image.open('Linearly_separable.png')\n",
    "# width, height = image.size\n",
    "\n",
    "# def generate_pixel_coordinates():\n",
    "#     points = []\n",
    "#     for i in range (width):\n",
    "#         for j in range(height):\n",
    "#             points.append([i,j])\n",
    "            \n",
    "#     return points\n",
    "        \n",
    "# def getRGBfromI(RGBint):#convert int color code to rgb color code\n",
    "#     blue =  RGBint & 255\n",
    "#     green = (RGBint >> 8) & 255\n",
    "#     red =   (RGBint >> 16) & 255\n",
    "#     return red, green, blue\n",
    "\n",
    "# def get_image_colors(image):\n",
    "#     colors = []\n",
    "#     pixels = generate_pixel_coordinates()  # Get pixel coordinates\n",
    "#     y_pred = model.predict(pixels)  # Predict colors for all pixels\n",
    "#     for color in y_pred:\n",
    "#         colors.append(getRGBfromI(color))  # Convert back to RGB format\n",
    "#     return colors\n",
    "\n",
    "# def save_data(pixels, colors, output_filename=\"SVM_C_Linearly_separable.png\"):\n",
    "#     im = Image.new(\"RGB\", (width, height))\n",
    "#     pix = im.load()\n",
    "#     for i in range(len(pixels)):\n",
    "#         pix[pixels[i][0], pixels[i][1]] = colors[i]  # Asociază pixelilor noile culori\n",
    "#     im.save(output_filename, \"PNG\")\n",
    "\n",
    "# pixels = generate_pixel_coordinates()\n",
    "# colors = get_image_colors(image)\n",
    "# save_data(pixels, colors)\n",
    "\n"
   ]
  },
  {
   "cell_type": "code",
   "execution_count": 18,
   "metadata": {},
   "outputs": [
    {
     "name": "stdout",
     "output_type": "stream",
     "text": [
      "acuratetea pentru SVM cu gamma=100: 0.5555555555555556\n",
      "acuratetea pentru SVM cu gamma=0.01: 1.0\n",
      "Precision pentru SVM cu gamma=100: 0.5555555555555556\n",
      "Precision pentru SVM cu gamma=0.01: 1.0\n",
      "Recall pentru SVM cu gamma=100: 1.0\n",
      "Recall pentru SVM cu gamma=0.01: 0.5555555555555556\n"
     ]
    }
   ],
   "source": [
    "# DOCS: \n",
    "# \n",
    "\n",
    "# al 2 lea clasificator e SVM si are urmaotrii hipermparametrii alesi:\n",
    "#  - hiperparametrul Gamma\n",
    "\n",
    "import numpy as np\n",
    "from sklearn import svm\n",
    "from sklearn import datasets\n",
    "from sklearn.svm import SVC\n",
    "import matplotlib.pyplot as plt\n",
    "from sklearn.model_selection import train_test_split\n",
    "from sklearn.metrics import precision_score, recall_score,accuracy_score\n",
    "\n",
    "# impartinrea setului de date a imaginii liniar separabile\n",
    "X1_train, X1_test, y1_train, y1_test = train_test_split(x1, y1 , test_size= 0.3, random_state=42)\n",
    "\n",
    "# ========================================================================================================================================================================\n",
    "# Pasul 4: Alege un clasificator: SVM și antrenează-l pe setul de antrenare generat la pasul 3.\n",
    "\n",
    "# Train SVM with a high gamma value\n",
    "svm_high_gamma = SVC(kernel='rbf', gamma=100)\n",
    "svm_high_gamma.fit(X1_train, y1_train)\n",
    "\n",
    "# Train SVM with a low gamma value\n",
    "svm_low_gamma = SVC(kernel='rbf', gamma=0.01)\n",
    "svm_low_gamma.fit(X1_train, y1_train)\n",
    "\n",
    "# ========================================================================================================================================================================\n",
    "# Pasul 5: Folosește clasificatorul antrenat la pasul 4 pentru a face predicții pe setul de testare generat la pasul 3.\n",
    "y_pred_high_gamma = svm_high_gamma.predict(X1_test)\n",
    "y_pred_low_gamma = svm_low_gamma.predict(X1_test)\n",
    "\n",
    "# ========================================================================================================================================================================\n",
    "# Pasul 6: Calculează acuratețea clasificatorului pe setul de testare generat la pasul 3 și apoi pe setul de antrenare. Discută rezultatele.\n",
    "accuracy_high_gamma = accuracy_score(y1_test, y_pred_high_gamma)\n",
    "accuracy_low_gamma = accuracy_score(y1_test, y_pred_low_gamma)\n",
    "\n",
    "print(\"acuratetea pentru SVM cu gamma=100:\", accuracy_high_gamma)\n",
    "print(\"acuratetea pentru SVM cu gamma=0.01:\", accuracy_low_gamma)\n",
    "# ========================================================================================================================================================================\n",
    "# Pasul 7: Calculează precizia și rechemarea (recall) clasificatorului pe setul de testare generat la pasul 3 și salvează rezultatele într-un fișier sau afișează-le.\n",
    "# Definește (teoretic) precizia și rechemarea. Discută rezultatele.\n",
    "\n",
    "precision_high_gamma = precision_score(y1_test, y_pred_high_gamma, average='micro')\n",
    "precision_low_gamma = precision_score(y1_test, y_pred_low_gamma, average='micro')\n",
    "\n",
    "recall_high_gamma = recall_score(y1_test, y_pred_high_gamma, average='micro')\n",
    "recall_low_gamma = recall_score(y1_test, y_pred_low_gamma, average='micro')\n",
    "\n",
    "print(\"Precision pentru SVM cu gamma=100:\", precision_high_gamma)\n",
    "print(\"Precision pentru SVM cu gamma=0.01:\", precision_low_gamma)\n",
    "print(\"Recall pentru SVM cu gamma=100:\", recall_low_gamma)\n",
    "print(\"Recall pentru SVM cu gamma=0.01:\", recall_high_gamma)\n",
    "# ========================================================================================================================================================================\n",
    "# Pasul 8: Prezice culoarea pentru toți pixelii primei imagini și salvează culorile prezise într-o nouă imagine folosind codul de mai jos (Cod parțial dat.\n",
    "# Trebuie completat). Fii capabil să explici codul de mai jos.\n",
    "\n",
    "from PIL import Image\n",
    "\n",
    "image = Image.open('Linearly_separable.png')\n",
    "width, height = image.size\n",
    "\n",
    "def generate_pixel_coordinates():\n",
    "    points = []\n",
    "    for i in range(width):\n",
    "        for j in range(height):\n",
    "            points.append([i, j])\n",
    "    return points\n",
    "\n",
    "def getRGBfromI(RGBint):\n",
    "    blue = RGBint & 255\n",
    "    green = (RGBint >> 8) & 255\n",
    "    red = (RGBint >> 16) & 255\n",
    "    return red, green, blue\n",
    "\n",
    "def get_image_colors(model):\n",
    "    colors = []\n",
    "    pixels = generate_pixel_coordinates()\n",
    "    y_pred_pixels = model.predict(pixels)\n",
    "    for color in y_pred_pixels:\n",
    "        colors.append(getRGBfromI(color))\n",
    "    return colors\n",
    "\n",
    "def save_data(pixels, colors, output_filename=\"SVM_Gamma_Linearly_separable.png\"):\n",
    "    im = Image.new(\"RGB\", (width, height))\n",
    "    pix = im.load()\n",
    "    for i in range(len(pixels)):\n",
    "        pix[pixels[i][0], pixels[i][1]] = colors[i]\n",
    "    im.save(output_filename, \"PNG\")\n",
    "\n",
    "pixels = generate_pixel_coordinates()\n",
    "\n",
    "# Generate and save image for high gamma\n",
    "colors_high_gamma = get_image_colors(svm_high_gamma)\n",
    "save_data(pixels, colors_high_gamma, \"SVM_GammaHigh_Linearly_separable.png\")\n",
    "\n",
    "# Generate and save image for low gamma\n",
    "colors_low_gamma = get_image_colors(svm_low_gamma)\n",
    "save_data(pixels, colors_low_gamma, \"SVM_GammaLow_Linearly_separable.png\")"
   ]
  },
  {
   "cell_type": "markdown",
   "metadata": {},
   "source": [
    "<strong>12.</strong> Folosește căutarea în grilă (grid search) cu validare încrucișată pentru optimizarea hiperparametrilor clasificatorilor (pentru selecția modelului). Raportează parametrii optimi furnizați de căutare. Prezice culoarea pentru toți pixelii primei imagini folosind modelul cu parametrii optimi.\n",
    "\n",
    "\n"
   ]
  },
  {
   "cell_type": "code",
   "execution_count": null,
   "metadata": {},
   "outputs": [],
   "source": []
  },
  {
   "cell_type": "markdown",
   "metadata": {},
   "source": [
    "<strong>13.</strong> Repetă toți pașii de mai sus pentru a doua imagine (folosind aceiași clasificatori ca pentru prima imagine). Compară rezultatele obținute cu același clasificator pentru cazurile liniar și non-liniar, respectiv.\n",
    "\n"
   ]
  },
  {
   "cell_type": "code",
   "execution_count": 20,
   "metadata": {},
   "outputs": [],
   "source": [
    "#your code here"
   ]
  },
  {
   "cell_type": "markdown",
   "metadata": {},
   "source": [
    "<strong>14.</strong> Compară rezultatele din mai multe perspective:\n",
    "\n",
    "<li>Compară rezultatele obținute pentru imagini liniar și non-liniar cu fiecare clasificator.</li> <li>Compară rezultatele obținute cu diferiți clasificatori pentru aceeași imagine.</li> <li>Încearcă să explici diferențele în performanțele diferitelor modele (clasificatori).</li>"
   ]
  },
  {
   "cell_type": "code",
   "execution_count": 21,
   "metadata": {},
   "outputs": [],
   "source": [
    "#your code here\n"
   ]
  },
  {
   "cell_type": "markdown",
   "metadata": {},
   "source": [
    "<strong>15.</strong> Realizează un studiu de sensibilitate privind selecția datelor (fișierele data1 și data2) din imaginile originale (vezi primul punct din Descrierea Detaliată a Cerințelor), folosind unul dintre clasificatorii utilizați anterior. Explicație: Se presupune că pixelii din seturile de antrenare sunt derivați dintr-o imagine reală pe care o cunoașteți teoretic. Ajustați pixelii selectați, ținând cont de forma imaginii reale.\n",
    "\n",
    "Generează două fișiere suplimentare, data12 și data22, și folosește unul dintre cei trei clasificatori pentru a prezice culoarea pentru toți pixelii din prima și a doua imagine. Compară rezultatele obținute (folosind data1 față de data12 și data2 față de data22). Oferă o explicație pentru rezultatele observate.\n",
    "\n",
    "\n",
    "\n"
   ]
  },
  {
   "cell_type": "code",
   "execution_count": 22,
   "metadata": {},
   "outputs": [],
   "source": [
    "#your code here\n"
   ]
  },
  {
   "cell_type": "markdown",
   "metadata": {},
   "source": [
    "<strong>16.</strong> Realizează un studiu privind influența dimensiunii seturilor de antrenare și testare pentru unul dintre clasificatorii la alegerea ta.\n",
    "\n"
   ]
  },
  {
   "cell_type": "code",
   "execution_count": 23,
   "metadata": {},
   "outputs": [],
   "source": [
    "#your code here\n"
   ]
  },
  {
   "cell_type": "markdown",
   "metadata": {},
   "source": [
    "<strong>17.</strong> Pentru evaluare, trebuie să completezi toți pașii descriși mai sus, să raportezi și să compari rezultatele, să oferi o prezentare succintă a clasificatorilor aleși direct în Jupyter Notebook și să fii pregătit să răspunzi la întrebări legate de prezentare.\n",
    "\n",
    "\n",
    "\n"
   ]
  },
  {
   "cell_type": "code",
   "execution_count": 24,
   "metadata": {},
   "outputs": [],
   "source": [
    "#your code here\n"
   ]
  }
 ],
 "metadata": {
  "anaconda-cloud": {},
  "kernelspec": {
   "display_name": "Python 3",
   "language": "python",
   "name": "python3"
  },
  "language_info": {
   "codemirror_mode": {
    "name": "ipython",
    "version": 3
   },
   "file_extension": ".py",
   "mimetype": "text/x-python",
   "name": "python",
   "nbconvert_exporter": "python",
   "pygments_lexer": "ipython3",
   "version": "3.13.0"
  }
 },
 "nbformat": 4,
 "nbformat_minor": 1
}
