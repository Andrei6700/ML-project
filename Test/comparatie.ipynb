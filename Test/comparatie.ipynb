{
 "cells": [
  {
   "cell_type": "code",
   "execution_count": 2,
   "metadata": {},
   "outputs": [
    {
     "ename": "FileNotFoundError",
     "evalue": "[Errno 2] No such file or directory: 'D:\\\\FACULTATE-Folder\\\\MASTER - ANUL 1\\\\Machine Learning\\\\Docs\\\\Proiect\\\\Test\\\\.png'",
     "output_type": "error",
     "traceback": [
      "\u001b[1;31m---------------------------------------------------------------------------\u001b[0m",
      "\u001b[1;31mFileNotFoundError\u001b[0m                         Traceback (most recent call last)",
      "Cell \u001b[1;32mIn[2], line 5\u001b[0m\n\u001b[0;32m      2\u001b[0m \u001b[38;5;28;01mfrom\u001b[39;00m \u001b[38;5;21;01mPIL\u001b[39;00m \u001b[38;5;28;01mimport\u001b[39;00m Image\n\u001b[0;32m      4\u001b[0m \u001b[38;5;66;03m# Deschide imagini\u001b[39;00m\n\u001b[1;32m----> 5\u001b[0m image1 \u001b[38;5;241m=\u001b[39m \u001b[43mImage\u001b[49m\u001b[38;5;241;43m.\u001b[39;49m\u001b[43mopen\u001b[49m\u001b[43m(\u001b[49m\u001b[38;5;124;43m\"\u001b[39;49m\u001b[38;5;124;43m.png\u001b[39;49m\u001b[38;5;124;43m\"\u001b[39;49m\u001b[43m)\u001b[49m\n\u001b[0;32m      6\u001b[0m image2 \u001b[38;5;241m=\u001b[39m Image\u001b[38;5;241m.\u001b[39mopen(\u001b[38;5;124m\"\u001b[39m\u001b[38;5;124m.png\u001b[39m\u001b[38;5;124m\"\u001b[39m)\n\u001b[0;32m      8\u001b[0m \u001b[38;5;66;03m# Obținem dimensiunile imaginilor\u001b[39;00m\n",
      "File \u001b[1;32md:\\PYTHON-Folder\\Lib\\site-packages\\PIL\\Image.py:3469\u001b[0m, in \u001b[0;36mopen\u001b[1;34m(fp, mode, formats)\u001b[0m\n\u001b[0;32m   3466\u001b[0m     filename \u001b[38;5;241m=\u001b[39m os\u001b[38;5;241m.\u001b[39mpath\u001b[38;5;241m.\u001b[39mrealpath(os\u001b[38;5;241m.\u001b[39mfspath(fp))\n\u001b[0;32m   3468\u001b[0m \u001b[38;5;28;01mif\u001b[39;00m filename:\n\u001b[1;32m-> 3469\u001b[0m     fp \u001b[38;5;241m=\u001b[39m \u001b[43mbuiltins\u001b[49m\u001b[38;5;241;43m.\u001b[39;49m\u001b[43mopen\u001b[49m\u001b[43m(\u001b[49m\u001b[43mfilename\u001b[49m\u001b[43m,\u001b[49m\u001b[43m \u001b[49m\u001b[38;5;124;43m\"\u001b[39;49m\u001b[38;5;124;43mrb\u001b[39;49m\u001b[38;5;124;43m\"\u001b[39;49m\u001b[43m)\u001b[49m\n\u001b[0;32m   3470\u001b[0m     exclusive_fp \u001b[38;5;241m=\u001b[39m \u001b[38;5;28;01mTrue\u001b[39;00m\n\u001b[0;32m   3471\u001b[0m \u001b[38;5;28;01melse\u001b[39;00m:\n",
      "\u001b[1;31mFileNotFoundError\u001b[0m: [Errno 2] No such file or directory: 'D:\\\\FACULTATE-Folder\\\\MASTER - ANUL 1\\\\Machine Learning\\\\Docs\\\\Proiect\\\\Test\\\\.png'"
     ]
    }
   ],
   "source": [
    "# SURSA: CHATGPT\n",
    "import os\n",
    "from PIL import Image\n",
    "\n",
    "# Deschide imagini\n",
    "image1 = Image.open(\".png\")\n",
    "image2 = Image.open(\".png\")\n",
    "\n",
    "# Obținem dimensiunile imaginilor\n",
    "width1, height1 = image1.size\n",
    "width2, height2 = image2.size\n",
    "\n",
    "# Alegem lățimea maximă și calculăm înălțimea totală\n",
    "max_width = max(width1, width2)\n",
    "total_height = height1 + height2\n",
    "\n",
    "# Creăm o imagine goală cu dimensiunile calculate\n",
    "new_image = Image.new(\"RGB\", (max_width, total_height))\n",
    "\n",
    "# Plasăm imaginea 1 în partea de sus\n",
    "new_image.paste(image1, (0, 0))\n",
    "\n",
    "# Plasăm imaginea 2 în partea de jos\n",
    "new_image.paste(image2, (0, height1))\n",
    "\n",
    "# Obținem calea directorului curent\n",
    "current_directory = os.getcwd()\n",
    "\n",
    "# Salvăm imaginea combinată în același director\n",
    "new_image_path = os.path.join(current_directory, \"combinata.png\")\n",
    "new_image.save(new_image_path)\n",
    "\n",
    "# Opțional: Afișăm imaginea combinată\n",
    "new_image.show()\n",
    "\n",
    "print(f\"Imaginea combinată a fost salvată la: {new_image_path}\")\n"
   ]
  },
  {
   "cell_type": "code",
   "execution_count": null,
   "metadata": {},
   "outputs": [],
   "source": []
  }
 ],
 "metadata": {
  "kernelspec": {
   "display_name": "Python 3",
   "language": "python",
   "name": "python3"
  },
  "language_info": {
   "codemirror_mode": {
    "name": "ipython",
    "version": 3
   },
   "file_extension": ".py",
   "mimetype": "text/x-python",
   "name": "python",
   "nbconvert_exporter": "python",
   "pygments_lexer": "ipython3",
   "version": "3.13.0"
  }
 },
 "nbformat": 4,
 "nbformat_minor": 2
}
